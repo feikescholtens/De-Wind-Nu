{
 "cells": [
  {
   "cell_type": "code",
   "execution_count": 1,
   "metadata": {},
   "outputs": [],
   "source": [
    "from requests import get\n",
    "import re\n",
    "import os\n",
    "import numpy as np\n",
    "import math\n",
    "\n",
    "def checkOKStatusRequest (response):\n",
    " if (response.status_code == 200): return True\n",
    " else: return False\n",
    "\n",
    "APIKey = \"eyJvcmciOiI1ZTU1NGUxOTI3NGE5NjAwMDEyYTNlYjEiLCJpZCI6IjI4ZWZlOTZkNDk2ZjQ3ZmE5YjMzNWY5NDU3NWQyMzViIiwiaCI6Im11cm11cjEyOCJ9\" #Public key"
   ]
  },
  {
   "cell_type": "code",
   "execution_count": 2,
   "metadata": {},
   "outputs": [],
   "source": [
    "\n",
    "def getDownloadURL (fileName):\n",
    "\tprint(f\"Fetching file {fileName}\")\n",
    "\n",
    "\ttry:\n",
    "\t\tresponse = get(f\"https://api.dataplatform.knmi.nl/open-data/v1/datasets/windgegevens/versions/1.0/files/{fileName}/url\", headers={\"Authorization\": f\"Bearer {APIKey}\"})\n",
    "\texcept:\n",
    "\t\tprint(\"Can't fetch URL (error in syntax probably)\")\n",
    "\t\treturn\n",
    "\n",
    "\tif (checkOKStatusRequest(response) == False):\n",
    "\t\tprint(f\"Fetching URL failed with status code {response.status_code}, body response:\")\n",
    "\t\tprint(response.content)\n",
    "\t\treturn\n",
    "\n",
    "\tif (response.content):\n",
    "\t\tlastModified = response.json()[\"lastModified\"]\n",
    "\t\tprint(f\"Fetched temporary download URL, file last modified {lastModified}\")\n",
    "\t\treturn response.json()[\"temporaryDownloadUrl\"]\n",
    "\n",
    "\n",
    "# print(getDownloadURL(2023, \"01\", \"19\", \"14\", \"20\"))\n"
   ]
  },
  {
   "cell_type": "code",
   "execution_count": 3,
   "metadata": {},
   "outputs": [],
   "source": [
    "def downloadFile(year, month):\n",
    "\t\n",
    "\t# All UTC dates and times\n",
    "\tfileNameRequest = f\"kis_tow_{year}{month}.gz\" \n",
    "\t\n",
    "\turl = getDownloadURL(fileNameRequest)\n",
    "\n",
    "\ttry:\n",
    "\t\tresponse = get(url)\n",
    "\texcept:\n",
    "\t\tprint(\"Can't fetch URL (error in syntax probably)\")\n",
    "\t\treturn\n",
    "\n",
    "\tif (checkOKStatusRequest(response) == False):\n",
    "\t\tprint(f\"Fetching URL failed with status code {response.status_code}, body response:\")\n",
    "\t\tprint(response.content)\n",
    "\t\treturn\n",
    "\n",
    "\tcontentDisposition = response.headers[\"content-disposition\"]\n",
    "\tfileName = re.findall(\"filename=\\\"(.+)\\\"\", contentDisposition)[0]\n",
    "\tpath = f\"compressed/{fileName}\"\n",
    "\n",
    "\ttry:\n",
    "\t\t\tif(os.path.exists(path)): os.remove(path)\n",
    "\t\t\topen(path, \"wb\").write(response.content)\n",
    "\texcept:\n",
    "\t\tprint(f\"Saving file {path} failed\")\n",
    "\t\treturn"
   ]
  },
  {
   "cell_type": "code",
   "execution_count": 4,
   "metadata": {},
   "outputs": [
    {
     "name": "stdout",
     "output_type": "stream",
     "text": [
      "Fetching file kis_tow_202212.gz\n",
      "Fetched temporary download URL, file last modified 2023-02-13T02:48:32+00:00\n"
     ]
    }
   ],
   "source": [
    "startYear = 2022\n",
    "startMonth = \"12\"\n",
    "#Include this month\n",
    "\n",
    "stopYear = 2022\n",
    "stopMonth = \"12\"\n",
    "#Include this month\n",
    "\n",
    "\n",
    "startYearMonthCombined = startYear + int(startMonth) / 12\n",
    "stopYearMonthCombined = stopYear + int(stopMonth) / 12\n",
    "\n",
    "numberOfFilesToDownload = int((stopYearMonthCombined - startYearMonthCombined) * 12)\n",
    "\n",
    "# print(numberOfFilesToDownload)\n",
    "\n",
    "for i in range(numberOfFilesToDownload + 1):\n",
    " yearMonthCombined = startYearMonthCombined + i * 1/12\n",
    " year = math.floor(yearMonthCombined)\n",
    "\n",
    " month = int(round(((yearMonthCombined - year) * 12), 0))\n",
    " if (month == 0): \n",
    "  month = 12\n",
    "  year = year - 1\n",
    " if (month < 10): month = f\"0{month}\"\n",
    "\n",
    " # print(year, month)\n",
    " downloadFile(year, month)"
   ]
  },
  {
   "cell_type": "code",
   "execution_count": null,
   "metadata": {},
   "outputs": [],
   "source": []
  }
 ],
 "metadata": {
  "kernelspec": {
   "display_name": "base",
   "language": "python",
   "name": "python3"
  },
  "language_info": {
   "codemirror_mode": {
    "name": "ipython",
    "version": 3
   },
   "file_extension": ".py",
   "mimetype": "text/x-python",
   "name": "python",
   "nbconvert_exporter": "python",
   "pygments_lexer": "ipython3",
   "version": "3.9.5"
  },
  "orig_nbformat": 4,
  "vscode": {
   "interpreter": {
    "hash": "19d1d53a962d236aa061289c2ac16dc8e6d9648c89fe79f459ae9a3493bc67b4"
   }
  }
 },
 "nbformat": 4,
 "nbformat_minor": 2
}
